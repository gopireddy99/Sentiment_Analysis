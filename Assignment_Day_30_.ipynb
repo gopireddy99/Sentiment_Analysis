{
  "nbformat": 4,
  "nbformat_minor": 0,
  "metadata": {
    "colab": {
      "provenance": [],
      "authorship_tag": "ABX9TyMojMTbNazcK+/rhlnKVga8",
      "include_colab_link": true
    },
    "kernelspec": {
      "name": "python3",
      "display_name": "Python 3"
    },
    "language_info": {
      "name": "python"
    }
  },
  "cells": [
    {
      "cell_type": "markdown",
      "metadata": {
        "id": "view-in-github",
        "colab_type": "text"
      },
      "source": [
        "<a href=\"https://colab.research.google.com/github/gopireddy99/Sentiment_Analysis/blob/main/Assignment_Day_30_.ipynb\" target=\"_parent\"><img src=\"https://colab.research.google.com/assets/colab-badge.svg\" alt=\"Open In Colab\"/></a>"
      ]
    },
    {
      "cell_type": "markdown",
      "source": [
        "# Write a Python program to perform sentiment analysis on a given text using the TextBlob library. Display whether the sentiment is positive, negative, or neutral."
      ],
      "metadata": {
        "id": "0l5zdM555njR"
      }
    },
    {
      "cell_type": "code",
      "source": [
        "from textblob import TextBlob\n",
        "\n",
        "def analyze_sentiment(text):\n",
        "    blob = TextBlob(text)\n",
        "    sentiment_score = blob.sentiment.polarity\n",
        "\n",
        "    if sentiment_score > 0:\n",
        "        sentiment = \"Positive\"\n",
        "    elif sentiment_score < 0:\n",
        "        sentiment = \"Negative\"\n",
        "    else:\n",
        "        sentiment = \"Neutral\"\n",
        "\n",
        "    return sentiment, sentiment_score\n",
        "\n",
        "if __name__ == \"__main__\":\n",
        "    user_text = input(\"Enter a text for sentiment analysis: \")\n",
        "    sentiment, score = analyze_sentiment(user_text)\n",
        "    print(f\"Sentiment: {sentiment} (Score: {score:.2f})\")\n"
      ],
      "metadata": {
        "colab": {
          "base_uri": "https://localhost:8080/"
        },
        "id": "PcEMkaUj5Sg-",
        "outputId": "8db764db-3be4-4591-e0ec-c2712600c745"
      },
      "execution_count": 3,
      "outputs": [
        {
          "output_type": "stream",
          "name": "stdout",
          "text": [
            "Enter a text for sentiment analysis: My name is Christopher John Francis Boone. I know all the countries of the world \n",
            "Sentiment: Neutral (Score: 0.00)\n"
          ]
        }
      ]
    },
    {
      "cell_type": "code",
      "source": [],
      "metadata": {
        "id": "TRHOQBqE5g0t"
      },
      "execution_count": null,
      "outputs": []
    }
  ]
}